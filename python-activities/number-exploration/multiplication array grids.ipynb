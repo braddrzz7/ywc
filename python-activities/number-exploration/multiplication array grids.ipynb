{
 "cells": [
  {
   "cell_type": "code",
   "execution_count": 1,
   "metadata": {},
   "outputs": [],
   "source": [
    "import random;\n",
    "import time;\n",
    "\n",
    "def array(m=None,n=None,charInt=None,label=False,ask=False):\n",
    "    if m is None:\n",
    "        m = random.randint(1,9);\n",
    "    if n is None:\n",
    "        n = random.randint(1,9);\n",
    "   \n",
    "    if n > 9:\n",
    "        print('Error!\\nCannot print more than 9 columns')\n",
    "        return None;\n",
    "    if m > 9:\n",
    "        print('Error!\\nCannot print more than 9 rows')\n",
    "        return None;\n",
    "    if charInt is None:\n",
    "        charInt = random.randint(9728,10174);\n",
    "    numWordObj = {\n",
    "        1:'one',2:'two',3:'three',4:'four',5:'five',\n",
    "        6:'six',7:'seven',8:'eight',9:'nine'\n",
    "    };\n",
    "    print('');\n",
    "    pref = '   ';\n",
    "    if label:\n",
    "        print(pref+'   '+' '.join([str(j+1) for j in range(n)]));\n",
    "    for i in range(m):\n",
    "        print(pref,(str(i+1)+' ' if label else '')+' '.join([chr(charInt)]*n));\n",
    "\n",
    "    ans = n*m;\n",
    "    ansDisplay = str(ans) if ask is False else '?';\n",
    "    \n",
    "    print('\\nThis is a',m,'by',n,'array.  It has',m,'rows and',n,'columns.');\n",
    "    print('\\nIf we count groups by row, the array has',m,'groups of',n,'items.\\nWe can write',numWordObj[m],numWordObj[n]+('es' if m==6 else 's'),'as');\n",
    "   \n",
    "    sumsA = [str(n*(i+1)) for i in range(m)];\n",
    "    sumsB = [str(m*(i+1)) for i in range(n)];\n",
    "    \n",
    "    # to make spacing in the big addition match the accumulation below it\n",
    "    if ask is not True:\n",
    "        lensA = [len(i) for i in sumsA];\n",
    "        lensB = [len(i) for i in sumsB];\n",
    "    else:\n",
    "        lensA = [1]*len(sumsA);\n",
    "        lensB = [1]*len(sumsB);\n",
    "    \n",
    "    thingA = [(' + '+' '.join(['']*lensA[i])+str(n)) for i in range(1,m)];\n",
    "    thingB = [(' + '+' '.join(['']*lensB[i])+str(m)) for i in range(1,n)];\n",
    "    \n",
    "    prefA = str(m)+' x '+str(n)+' =';\n",
    "    print(prefA,str(n)+''.join([str(x) for x in thingA]),' = ',ansDisplay)\n",
    "    if not ask:\n",
    "        print(' '.join(['']*(1+len(prefA))),(' '+chr(8594)+' ').join(sumsA));\n",
    "    print('');\n",
    "    prefB = str(n)+' x '+str(m)+' =';\n",
    "    print('\\nIf we count groups by column, the array has',n,'groups of',m,'items.\\nWe can write',numWordObj[n],numWordObj[m]+('es' if n==6 else 's'),'as');\n",
    "    print(prefB,str(m)+''.join([str(x) for x in thingB]),' = ',ansDisplay)\n",
    "    if not ask:\n",
    "        print(' '.join(['']*(1+len(prefB))),(' '+chr(8594)+' ').join(sumsB));\n",
    "    print(' '.join(['_']*30));\n",
    "    if ask is True:\n",
    "        print('\\nHow many total',chr(charInt),'are there in the array?')\n",
    "        correct=False\n",
    "        while not correct:\n",
    "            guess = input('');\n",
    "            correct = guess == str(ans);\n",
    "            if not correct:\n",
    "                print('Not quite, try again');\n",
    "        print('CORRECT!');\n",
    "        correct=False;\n",
    "\n",
    "def arrayAsk(m=None,n=None):\n",
    "    array(m,n,ask=True);\n",
    "    \n",
    "def arrayQuiz(q=5):\n",
    "    for i in range(q):\n",
    "        arrayAsk();\n",
    "        if i < q-1:\n",
    "            print('Here comes another...');\n",
    "            time.sleep(2);\n",
    "    print('\\n\\nGreat work!  You go them all correct!')\n",
    "    "
   ]
  },
  {
   "cell_type": "code",
   "execution_count": 2,
   "metadata": {},
   "outputs": [
    {
     "name": "stdout",
     "output_type": "stream",
     "text": [
      "\n",
      "    ⚺ ⚺ ⚺ ⚺ ⚺\n",
      "    ⚺ ⚺ ⚺ ⚺ ⚺\n",
      "    ⚺ ⚺ ⚺ ⚺ ⚺\n",
      "\n",
      "This is a 3 by 5 array.  It has 3 rows and 5 columns.\n",
      "\n",
      "If we count groups by row, the array has 3 groups of 5 items.\n",
      "We can write three fives as\n",
      "3 x 5 = 5 +  5 +  5  =  15\n",
      "        5 → 10 → 15\n",
      "\n",
      "\n",
      "If we count groups by column, the array has 5 groups of 3 items.\n",
      "We can write five threes as\n",
      "5 x 3 = 3 + 3 + 3 +  3 +  3  =  15\n",
      "        3 → 6 → 9 → 12 → 15\n",
      "_ _ _ _ _ _ _ _ _ _ _ _ _ _ _ _ _ _ _ _ _ _ _ _ _ _ _ _ _ _\n"
     ]
    }
   ],
   "source": [
    "array(3,5)"
   ]
  },
  {
   "cell_type": "code",
   "execution_count": 3,
   "metadata": {},
   "outputs": [
    {
     "name": "stdout",
     "output_type": "stream",
     "text": [
      "\n",
      "    ❦ ❦ ❦ ❦\n",
      "    ❦ ❦ ❦ ❦\n",
      "    ❦ ❦ ❦ ❦\n",
      "    ❦ ❦ ❦ ❦\n",
      "    ❦ ❦ ❦ ❦\n",
      "    ❦ ❦ ❦ ❦\n",
      "\n",
      "This is a 6 by 4 array.  It has 6 rows and 4 columns.\n",
      "\n",
      "If we count groups by row, the array has 6 groups of 4 items.\n",
      "We can write six foures as\n",
      "6 x 4 = 4 + 4 +  4 +  4 +  4 +  4  =  24\n",
      "        4 → 8 → 12 → 16 → 20 → 24\n",
      "\n",
      "\n",
      "If we count groups by column, the array has 4 groups of 6 items.\n",
      "We can write four sixs as\n",
      "4 x 6 = 6 +  6 +  6 +  6  =  24\n",
      "        6 → 12 → 18 → 24\n",
      "_ _ _ _ _ _ _ _ _ _ _ _ _ _ _ _ _ _ _ _ _ _ _ _ _ _ _ _ _ _\n"
     ]
    }
   ],
   "source": [
    "array()"
   ]
  },
  {
   "cell_type": "code",
   "execution_count": 4,
   "metadata": {},
   "outputs": [
    {
     "name": "stdout",
     "output_type": "stream",
     "text": [
      "\n",
      "    ⚰ ⚰ ⚰ ⚰ ⚰ ⚰ ⚰\n",
      "    ⚰ ⚰ ⚰ ⚰ ⚰ ⚰ ⚰\n",
      "\n",
      "This is a 2 by 7 array.  It has 2 rows and 7 columns.\n",
      "\n",
      "If we count groups by row, the array has 2 groups of 7 items.\n",
      "We can write two sevens as\n",
      "2 x 7 = 7 + 7  =  ?\n",
      "\n",
      "\n",
      "If we count groups by column, the array has 7 groups of 2 items.\n",
      "We can write seven twos as\n",
      "7 x 2 = 2 + 2 + 2 + 2 + 2 + 2 + 2  =  ?\n",
      "_ _ _ _ _ _ _ _ _ _ _ _ _ _ _ _ _ _ _ _ _ _ _ _ _ _ _ _ _ _\n",
      "\n",
      "How many total ⚰ are there in the array?\n",
      "14\n",
      "CORRECT!\n"
     ]
    }
   ],
   "source": [
    "arrayAsk()"
   ]
  },
  {
   "cell_type": "code",
   "execution_count": null,
   "metadata": {},
   "outputs": [
    {
     "name": "stdout",
     "output_type": "stream",
     "text": [
      "\n",
      "    ⛶ ⛶ ⛶ ⛶\n",
      "    ⛶ ⛶ ⛶ ⛶\n",
      "    ⛶ ⛶ ⛶ ⛶\n",
      "\n",
      "This is a 3 by 4 array.  It has 3 rows and 4 columns.\n",
      "\n",
      "If we count groups by row, the array has 3 groups of 4 items.\n",
      "We can write three fours as\n",
      "[1, 1, 1]\n",
      "3 x 4 = 4 + 4 + 4  =  ?\n",
      "\n",
      "\n",
      "If we count groups by column, the array has 4 groups of 3 items.\n",
      "We can write four threes as\n",
      "4 x 3 = 3 + 3 + 3 + 3  =  ?\n",
      "_ _ _ _ _ _ _ _ _ _ _ _ _ _ _ _ _ _ _ _ _ _ _ _ _ _ _ _ _ _\n",
      "\n",
      "How many total ⛶ are there in the array?\n"
     ]
    }
   ],
   "source": [
    "array(3,4,ask=True)"
   ]
  },
  {
   "cell_type": "code",
   "execution_count": 2,
   "metadata": {},
   "outputs": [
    {
     "name": "stdout",
     "output_type": "stream",
     "text": [
      "\n",
      "    ⛈ ⛈ ⛈ ⛈ ⛈ ⛈ ⛈ ⛈ ⛈\n",
      "    ⛈ ⛈ ⛈ ⛈ ⛈ ⛈ ⛈ ⛈ ⛈\n",
      "    ⛈ ⛈ ⛈ ⛈ ⛈ ⛈ ⛈ ⛈ ⛈\n",
      "    ⛈ ⛈ ⛈ ⛈ ⛈ ⛈ ⛈ ⛈ ⛈\n",
      "    ⛈ ⛈ ⛈ ⛈ ⛈ ⛈ ⛈ ⛈ ⛈\n",
      "    ⛈ ⛈ ⛈ ⛈ ⛈ ⛈ ⛈ ⛈ ⛈\n",
      "\n",
      "This is a 6 by 9 array.  It has 6 rows and 9 columns.\n",
      "\n",
      "If we count groups by row, the array has 6 groups of 9 items.\n",
      "We can write six ninees as\n",
      "[1, 2, 2, 2, 2, 2]\n",
      "6 x 9 = 9 +  9 +  9 +  9 +  9 +  9  =  54\n",
      "        9 → 18 → 27 → 36 → 45 → 54\n",
      "\n",
      "\n",
      "If we count groups by column, the array has 9 groups of 6 items.\n",
      "We can write nine sixs as\n",
      "9 x 6 = 6 +  6 +  6 +  6 +  6 +  6 +  6 +  6 +  6  =  54\n",
      "        6 → 12 → 18 → 24 → 30 → 36 → 42 → 48 → 54\n",
      "_ _ _ _ _ _ _ _ _ _ _ _ _ _ _ _ _ _ _ _ _ _ _ _ _ _ _ _ _ _\n"
     ]
    }
   ],
   "source": [
    "array(6,9)"
   ]
  },
  {
   "cell_type": "code",
   "execution_count": 5,
   "metadata": {},
   "outputs": [
    {
     "name": "stdout",
     "output_type": "stream",
     "text": [
      "\n",
      "    ➢ ➢ ➢ ➢\n",
      "    ➢ ➢ ➢ ➢\n",
      "    ➢ ➢ ➢ ➢\n",
      "    ➢ ➢ ➢ ➢\n",
      "\n",
      "This is a 4 by 4 array.  It has 4 rows and 4 columns.\n",
      "\n",
      "If we count groups by row, the array has 4 groups of 4 items.  We can write four fours as\n",
      "4 x 4 = 4 + 4 +  4 +  4  =  16\n",
      "        4 → 8 → 12 → 16\n",
      "\n",
      "\n",
      "If we count groups by column, the array has 4 groups of 4 items.  We can write four fours as\n",
      "4 x 4 = 4 + 4 +  4 +  4  =  16\n",
      "        4 → 8 → 12 → 16\n",
      "_ _ _ _ _ _ _ _ _ _ _ _ _ _ _ _ _ _ _ _ _ _ _ _ _ _ _ _ _ _ _ _ _ _ _ _ _ _ _ _\n"
     ]
    }
   ],
   "source": [
    "array(4,4)"
   ]
  },
  {
   "cell_type": "code",
   "execution_count": 6,
   "metadata": {},
   "outputs": [
    {
     "name": "stdout",
     "output_type": "stream",
     "text": [
      "\n",
      "    ☃ ☃ ☃ ☃ ☃ ☃ ☃ ☃ ☃\n",
      "    ☃ ☃ ☃ ☃ ☃ ☃ ☃ ☃ ☃\n",
      "    ☃ ☃ ☃ ☃ ☃ ☃ ☃ ☃ ☃\n",
      "    ☃ ☃ ☃ ☃ ☃ ☃ ☃ ☃ ☃\n",
      "\n",
      "This is a 4 by 9 array.  It has 4 rows and 9 columns.\n",
      "\n",
      "If we count groups by row, the array has 4 groups of 9 items.  We can write four nines as\n",
      "4 x 9 = 9 +  9 +  9 +  9  =  36\n",
      "        9 → 18 → 27 → 36\n",
      "\n",
      "\n",
      "If we count groups by column, the array has 9 groups of 4 items.  We can write nine fours as\n",
      "9 x 4 = 4 + 4 +  4 +  4 +  4 +  4 +  4 +  4 +  4  =  36\n",
      "        4 → 8 → 12 → 16 → 20 → 24 → 28 → 32 → 36\n",
      "_ _ _ _ _ _ _ _ _ _ _ _ _ _ _ _ _ _ _ _ _ _ _ _ _ _ _ _ _ _ _ _ _ _ _ _ _ _ _ _\n"
     ]
    }
   ],
   "source": [
    "array(4,9,9731)"
   ]
  },
  {
   "cell_type": "code",
   "execution_count": 7,
   "metadata": {},
   "outputs": [
    {
     "name": "stdout",
     "output_type": "stream",
     "text": [
      "\n",
      "    ☠ ☠ ☠ ☠ ☠ ☠ ☠ ☠ ☠\n",
      "    ☠ ☠ ☠ ☠ ☠ ☠ ☠ ☠ ☠\n",
      "    ☠ ☠ ☠ ☠ ☠ ☠ ☠ ☠ ☠\n",
      "    ☠ ☠ ☠ ☠ ☠ ☠ ☠ ☠ ☠\n",
      "\n",
      "This is a 4 by 9 array.  It has 4 rows and 9 columns.\n",
      "\n",
      "If we count groups by row, the array has 4 groups of 9 items.  We can write four nines as\n",
      "4 x 9 = 9 +  9 +  9 +  9  =  36\n",
      "        9 → 18 → 27 → 36\n",
      "\n",
      "\n",
      "If we count groups by column, the array has 9 groups of 4 items.  We can write nine fours as\n",
      "9 x 4 = 4 + 4 +  4 +  4 +  4 +  4 +  4 +  4 +  4  =  36\n",
      "        4 → 8 → 12 → 16 → 20 → 24 → 28 → 32 → 36\n",
      "_ _ _ _ _ _ _ _ _ _ _ _ _ _ _ _ _ _ _ _ _ _ _ _ _ _ _ _ _ _ _ _ _ _ _ _ _ _ _ _\n"
     ]
    }
   ],
   "source": [
    "array(4,9,9760)"
   ]
  },
  {
   "cell_type": "code",
   "execution_count": 8,
   "metadata": {},
   "outputs": [
    {
     "name": "stdout",
     "output_type": "stream",
     "text": [
      "\n",
      "    ♪ ♪ ♪ ♪ ♪ ♪ ♪ ♪ ♪\n",
      "    ♪ ♪ ♪ ♪ ♪ ♪ ♪ ♪ ♪\n",
      "    ♪ ♪ ♪ ♪ ♪ ♪ ♪ ♪ ♪\n",
      "    ♪ ♪ ♪ ♪ ♪ ♪ ♪ ♪ ♪\n",
      "\n",
      "This is a 4 by 9 array.  It has 4 rows and 9 columns.\n",
      "\n",
      "If we count groups by row, the array has 4 groups of 9 items.  We can write four nines as\n",
      "4 x 9 = 9 +  9 +  9 +  9  =  36\n",
      "        9 → 18 → 27 → 36\n",
      "\n",
      "\n",
      "If we count groups by column, the array has 9 groups of 4 items.  We can write nine fours as\n",
      "9 x 4 = 4 + 4 +  4 +  4 +  4 +  4 +  4 +  4 +  4  =  36\n",
      "        4 → 8 → 12 → 16 → 20 → 24 → 28 → 32 → 36\n",
      "_ _ _ _ _ _ _ _ _ _ _ _ _ _ _ _ _ _ _ _ _ _ _ _ _ _ _ _ _ _ _ _ _ _ _ _ _ _ _ _\n"
     ]
    }
   ],
   "source": [
    "array(4,9,9834)"
   ]
  },
  {
   "cell_type": "code",
   "execution_count": 9,
   "metadata": {},
   "outputs": [
    {
     "name": "stdout",
     "output_type": "stream",
     "text": [
      "\n",
      "    ❤ ❤ ❤ ❤ ❤ ❤ ❤\n",
      "    ❤ ❤ ❤ ❤ ❤ ❤ ❤\n",
      "    ❤ ❤ ❤ ❤ ❤ ❤ ❤\n",
      "    ❤ ❤ ❤ ❤ ❤ ❤ ❤\n",
      "    ❤ ❤ ❤ ❤ ❤ ❤ ❤\n",
      "\n",
      "This is a 5 by 7 array.  It has 5 rows and 7 columns.\n",
      "\n",
      "If we count groups by row, the array has 5 groups of 7 items.  We can write five sevens as\n",
      "5 x 7 = 7 +  7 +  7 +  7 +  7  =  35\n",
      "        7 → 14 → 21 → 28 → 35\n",
      "\n",
      "\n",
      "If we count groups by column, the array has 7 groups of 5 items.  We can write seven fives as\n",
      "7 x 5 = 5 +  5 +  5 +  5 +  5 +  5 +  5  =  35\n",
      "        5 → 10 → 15 → 20 → 25 → 30 → 35\n",
      "_ _ _ _ _ _ _ _ _ _ _ _ _ _ _ _ _ _ _ _ _ _ _ _ _ _ _ _ _ _ _ _ _ _ _ _ _ _ _ _\n"
     ]
    }
   ],
   "source": [
    "array(5,7,10084)"
   ]
  },
  {
   "cell_type": "code",
   "execution_count": null,
   "metadata": {},
   "outputs": [],
   "source": []
  }
 ],
 "metadata": {
  "kernelspec": {
   "display_name": "Python 3",
   "language": "python",
   "name": "python3"
  },
  "language_info": {
   "codemirror_mode": {
    "name": "ipython",
    "version": 3
   },
   "file_extension": ".py",
   "mimetype": "text/x-python",
   "name": "python",
   "nbconvert_exporter": "python",
   "pygments_lexer": "ipython3",
   "version": "3.7.3"
  }
 },
 "nbformat": 4,
 "nbformat_minor": 4
}
