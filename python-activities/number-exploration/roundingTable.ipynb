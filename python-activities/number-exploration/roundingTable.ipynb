{
 "cells": [
  {
   "cell_type": "code",
   "execution_count": 182,
   "metadata": {},
   "outputs": [],
   "source": [
    "import math;\n",
    "\n",
    "def round5up(num):\n",
    "    if num - math.floor(num) < 0.5:\n",
    "        return math.floor(num)\n",
    "    return math.ceil(num);\n",
    "\n",
    "def roundTo(num,rto):\n",
    "    return round5up(num/rto)*rto;\n",
    "\n",
    "def roundingTable(num):\n",
    "    leftLabel = 'Round To';\n",
    "    numLen = len(str(num));\n",
    "    fnumLen = numLen + math.floor(len(str(num))/2)+1; \n",
    "    leftLen = max(len(leftLabel),fnumLen);\n",
    "    rightLabel = 'Rounded';\n",
    "    rightLen = max(len(rightLabel),fnumLen);\n",
    "    print(leftLabel.rjust(leftLen,' ') + ' | ' + rightLabel.rjust(rightLen, ' '))\n",
    "    print('-'.rjust(leftLen+rightLen+3,'-'))\n",
    "    for count in range(numLen):\n",
    "        rnum = roundTo(num,10**count);\n",
    "        left = str(f\"{10**count:,}\").rjust(leftLen,' ');\n",
    "        right = str(f\"{rnum:,}\").rjust(rightLen,' ');\n",
    "        print(left+ ' | '+right);\n",
    "\n"
   ]
  },
  {
   "cell_type": "code",
   "execution_count": 183,
   "metadata": {},
   "outputs": [
    {
     "data": {
      "text/plain": [
       "9840"
      ]
     },
     "execution_count": 183,
     "metadata": {},
     "output_type": "execute_result"
    }
   ],
   "source": [
    "roundTo(9843,10)"
   ]
  },
  {
   "cell_type": "code",
   "execution_count": 184,
   "metadata": {},
   "outputs": [
    {
     "data": {
      "text/plain": [
       "9900"
      ]
     },
     "execution_count": 184,
     "metadata": {},
     "output_type": "execute_result"
    }
   ],
   "source": [
    "roundTo(9876,100)"
   ]
  },
  {
   "cell_type": "code",
   "execution_count": 185,
   "metadata": {},
   "outputs": [
    {
     "data": {
      "text/plain": [
       "25"
      ]
     },
     "execution_count": 185,
     "metadata": {},
     "output_type": "execute_result"
    }
   ],
   "source": [
    "roundTo(23,5)"
   ]
  },
  {
   "cell_type": "code",
   "execution_count": 186,
   "metadata": {
    "scrolled": true
   },
   "outputs": [
    {
     "name": "stdout",
     "output_type": "stream",
     "text": [
      "  Round To |    Rounded\n",
      "-----------------------\n",
      "         1 |    988,765\n",
      "        10 |    988,770\n",
      "       100 |    988,800\n",
      "     1,000 |    989,000\n",
      "    10,000 |    990,000\n",
      "   100,000 |  1,000,000\n"
     ]
    }
   ],
   "source": [
    "roundingTable(988765)"
   ]
  },
  {
   "cell_type": "code",
   "execution_count": 191,
   "metadata": {},
   "outputs": [
    {
     "name": "stdout",
     "output_type": "stream",
     "text": [
      "         Round To |           Rounded\n",
      "-------------------------------------\n",
      "                1 |    23,847,293,874\n",
      "               10 |    23,847,293,870\n",
      "              100 |    23,847,293,900\n",
      "            1,000 |    23,847,294,000\n",
      "           10,000 |    23,847,290,000\n",
      "          100,000 |    23,847,300,000\n",
      "        1,000,000 |    23,847,000,000\n",
      "       10,000,000 |    23,850,000,000\n",
      "      100,000,000 |    23,800,000,000\n",
      "    1,000,000,000 |    24,000,000,000\n",
      "   10,000,000,000 |    20,000,000,000\n"
     ]
    }
   ],
   "source": [
    "roundingTable(23847293874)"
   ]
  },
  {
   "cell_type": "code",
   "execution_count": 196,
   "metadata": {},
   "outputs": [
    {
     "name": "stdout",
     "output_type": "stream",
     "text": [
      "Round To |  Rounded\n",
      "-------------------\n",
      "       1 |   57,382\n",
      "      10 |   57,380\n",
      "     100 |   57,400\n",
      "   1,000 |   57,000\n",
      "  10,000 |   60,000\n"
     ]
    }
   ],
   "source": [
    "roundingTable(57382)"
   ]
  },
  {
   "cell_type": "code",
   "execution_count": null,
   "metadata": {},
   "outputs": [],
   "source": []
  }
 ],
 "metadata": {
  "kernelspec": {
   "display_name": "Python 3",
   "language": "python",
   "name": "python3"
  },
  "language_info": {
   "codemirror_mode": {
    "name": "ipython",
    "version": 3
   },
   "file_extension": ".py",
   "mimetype": "text/x-python",
   "name": "python",
   "nbconvert_exporter": "python",
   "pygments_lexer": "ipython3",
   "version": "3.7.3"
  }
 },
 "nbformat": 4,
 "nbformat_minor": 4
}
