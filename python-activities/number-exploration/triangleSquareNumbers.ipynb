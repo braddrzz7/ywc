{
 "cells": [
  {
   "cell_type": "code",
   "execution_count": 1,
   "metadata": {},
   "outputs": [],
   "source": [
    "def trin(n):\n",
    "    return round(n*(n+1)/2);\n",
    "\n",
    "def tri(n,char='@'):\n",
    "    val = round(n*(n+1)/2);\n",
    "    if char != False:\n",
    "        print('The '+str(n)+'th triangular number is '+str(val));\n",
    "        for i in range(n):\n",
    "            print(''.join([char]*(i+1)));\n",
    "    else:\n",
    "        return val;\n",
    "\n",
    "def sq(n,char='@'):\n",
    "    if (char==False):\n",
    "          return n*n;\n",
    "    print('The '+str(n)+'th square number is '+str(n*n));\n",
    "    for i in range(n):\n",
    "        print(''.join([char]*n));\n",
    "\n",
    "def tris(n,column=True):\n",
    "    return [tri(i,False) for i in range(1,n+1)];\n",
    "\n",
    "def sqs(n,column=True):\n",
    "    return [i**2 for i in range(1,n+1)];\n",
    "\n",
    "def numberLine(arr1,arr2):\n",
    "    for i in range(max(max(arr1),max(arr2))):\n",
    "            if (i in arr1):\n",
    "                if (i in arr2):\n",
    "                    print(str(i).rjust(5)+'-|-'+str(i).ljust(5));\n",
    "                else:\n",
    "                    print(str(i).rjust(5)+'-| '+''.ljust(5));\n",
    "            elif (i in arr2):\n",
    "                print(''.rjust(5)+' |-'+str(i).ljust(5));\n",
    "    \n",
    "\n"
   ]
  },
  {
   "cell_type": "markdown",
   "metadata": {},
   "source": [
    "## 1) Draw some triangular and square numbers"
   ]
  },
  {
   "cell_type": "code",
   "execution_count": 2,
   "metadata": {},
   "outputs": [
    {
     "name": "stdout",
     "output_type": "stream",
     "text": [
      "The 5th triangular number is 15\n",
      "@\n",
      "@@\n",
      "@@@\n",
      "@@@@\n",
      "@@@@@\n"
     ]
    }
   ],
   "source": [
    "tri(5)"
   ]
  },
  {
   "cell_type": "code",
   "execution_count": 3,
   "metadata": {},
   "outputs": [
    {
     "name": "stdout",
     "output_type": "stream",
     "text": [
      "The 4th square number is 16\n",
      "XXXX\n",
      "XXXX\n",
      "XXXX\n",
      "XXXX\n"
     ]
    }
   ],
   "source": [
    "sq(4,'X')"
   ]
  },
  {
   "cell_type": "markdown",
   "metadata": {},
   "source": [
    "# 2) There are two numbers smaller than 50 that are both triangular AND square.  What are they?"
   ]
  },
  {
   "cell_type": "markdown",
   "metadata": {},
   "source": [
    "#### Use tris(n) and sqs(n) to calculate the first n triangular and square numbers"
   ]
  },
  {
   "cell_type": "code",
   "execution_count": 4,
   "metadata": {},
   "outputs": [
    {
     "data": {
      "text/plain": [
       "[1, 3, 6, 10, 15]"
      ]
     },
     "execution_count": 4,
     "metadata": {},
     "output_type": "execute_result"
    }
   ],
   "source": [
    "tris(5)"
   ]
  },
  {
   "cell_type": "code",
   "execution_count": 5,
   "metadata": {},
   "outputs": [
    {
     "data": {
      "text/plain": [
       "[1, 4, 9, 16]"
      ]
     },
     "execution_count": 5,
     "metadata": {},
     "output_type": "execute_result"
    }
   ],
   "source": [
    "sqs(4)"
   ]
  },
  {
   "cell_type": "markdown",
   "metadata": {},
   "source": [
    "## 3) How many square numbers are less than 1000?  How about triangular numbers?"
   ]
  },
  {
   "cell_type": "markdown",
   "metadata": {},
   "source": [
    "#### Use len(list) to count the number of items in a list"
   ]
  },
  {
   "cell_type": "code",
   "execution_count": 6,
   "metadata": {},
   "outputs": [
    {
     "data": {
      "text/plain": [
       "4"
      ]
     },
     "execution_count": 6,
     "metadata": {},
     "output_type": "execute_result"
    }
   ],
   "source": [
    "len([1,2,3,4])"
   ]
  },
  {
   "cell_type": "markdown",
   "metadata": {},
   "source": [
    "## 4) There is one more number that is both triangular and square that is less than 2000.  Find that number"
   ]
  },
  {
   "cell_type": "markdown",
   "metadata": {},
   "source": [
    "#### User this number line function to help find it"
   ]
  },
  {
   "cell_type": "code",
   "execution_count": 7,
   "metadata": {},
   "outputs": [
    {
     "name": "stdout",
     "output_type": "stream",
     "text": [
      "    1-|-1    \n",
      "    3-|      \n",
      "      |-4    \n",
      "    6-|      \n",
      "      |-9    \n",
      "   10-|      \n",
      "   15-|      \n",
      "      |-16   \n",
      "   21-|      \n",
      "      |-25   \n",
      "   28-|      \n",
      "   36-|-36   \n",
      "   45-|      \n",
      "      |-49   \n",
      "   55-|      \n",
      "      |-64   \n",
      "      |-81   \n"
     ]
    }
   ],
   "source": [
    "numberLine(tris(10),sqs(10))"
   ]
  },
  {
   "cell_type": "code",
   "execution_count": null,
   "metadata": {},
   "outputs": [],
   "source": []
  }
 ],
 "metadata": {
  "kernelspec": {
   "display_name": "Python 3",
   "language": "python",
   "name": "python3"
  },
  "language_info": {
   "codemirror_mode": {
    "name": "ipython",
    "version": 3
   },
   "file_extension": ".py",
   "mimetype": "text/x-python",
   "name": "python",
   "nbconvert_exporter": "python",
   "pygments_lexer": "ipython3",
   "version": "3.7.3"
  }
 },
 "nbformat": 4,
 "nbformat_minor": 4
}
