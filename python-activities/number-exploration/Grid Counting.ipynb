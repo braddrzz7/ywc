{
 "cells": [
  {
   "cell_type": "markdown",
   "metadata": {},
   "source": [
    "# Counting Grids"
   ]
  },
  {
   "cell_type": "markdown",
   "metadata": {},
   "source": [
    "Here is a square grid\n",
    "<pre>\n",
    "  X X X X X\n",
    "  X X X X X\n",
    "  X X X X X\n",
    "  X X X X X\n",
    "</pre>\n",
    "There are many possible ways to count the elements\n"
   ]
  },
  {
   "cell_type": "markdown",
   "metadata": {},
   "source": [
    "We can count by rows\n",
    "<pre>\n",
    "<font color=\"red\">X X X X X</font>\n",
    "<font color=\"orchid\">X X X X X</font>\n",
    "<font color=\"orange\">X X X X X</font>\n",
    "<font color=\"fuchsia\">X X X X X</font>\n",
    "</pre>\n",
    "Here we count 4 rows of 5, so <br>\n",
    "$5 + 5 + 5 + 5 = 4 \\times 5 = 5\\times4 = 20$"
   ]
  },
  {
   "cell_type": "markdown",
   "metadata": {},
   "source": [
    "We can count by columns\n",
    "<pre>\n",
    "  <font color=\"blue\">X</font> <font color=\"cyan\">X</font> <font color=\"olive\">X</font> <font color=\"peru\">X</font> <font color=\"gold\">X</font>\n",
    "  <font color=\"blue\">X</font> <font color=\"cyan\">X</font> <font color=\"olive\">X</font> <font color=\"peru\">X</font> <font color=\"gold\">X</font>\n",
    "  <font color=\"blue\">X</font> <font color=\"cyan\">X</font> <font color=\"olive\">X</font> <font color=\"peru\">X</font> <font color=\"gold\">X</font>\n",
    "  <font color=\"blue\">X</font> <font color=\"cyan\">X</font> <font color=\"olive\">X</font> <font color=\"peru\">X</font> <font color=\"gold\">X</font>\n",
    "  </pre>\n",
    "There are 5 columns of 4, so we get <br>\n",
    "$4+4+4+4+4 = 5\\times4 = 4\\times5 = 20$"
   ]
  },
  {
   "cell_type": "markdown",
   "metadata": {},
   "source": [
    "We can count groups that are now straight lines\n",
    "<pre>\n",
    "  <font color=\"fuchsia\">X X</font> <font color=\"tomato\">X X</font> <font color=\"cyan\">X</font>\n",
    "  <font color=\"fuchsia\">X X</font> <font color=\"tomato\">X X</font> <font color=\"cyan\">X</font>\n",
    "  <font color=\"indigo\">X X</font> <font color=\"lime\">X X</font> <font color=\"royalblue\">X</font>\n",
    "  <font color=\"indigo\">X X</font> <font color=\"lime\">X X</font> <font color=\"royalblue\">X</font>\n",
    "</pre>\n",
    "There are 4 groups of 4 and 2 groups of 2<br>\n",
    "$4+4+4+4+2+2 = (4\\times4)+(2\\times2)=16+4=20$"
   ]
  },
  {
   "cell_type": "markdown",
   "metadata": {},
   "source": [
    "We can count diagonally\n",
    "<pre>\n",
    "  <font color=\"blue\">X</font> <font color=\"cyan\">X</font> <font color=\"olive\">X</font> <font color=\"peru\">X</font> <font color=\"purple\">X</font>\n",
    "  <font color=\"red\">X</font> <font color=\"blue\">X</font> <font color=\"cyan\">X</font> <font color=\"olive\">X</font> <font color=\"peru\">X</font>\n",
    "  <font color=\"green\">X</font> <font color=\"red\">X</font> <font color=\"blue\">X</font> <font color=\"cyan\">X</font> <font color=\"olive\">X</font>\n",
    "  <font color=\"pink\">X</font> <font color=\"green\">X</font> <font color=\"red\">X</font> <font color=\"blue\">X</font> <font color=\"cyan\">X</font>\n",
    "</pre>\n",
    "Unlike the rows and columns, the diagonals do not all have the same number of elements <br>\n",
    "$1 + 2 + 3 + 4 + 4 + 3 + 2 + 1 = (1+2+3+4)\\times2 = 10\\times2=20$"
   ]
  },
  {
   "cell_type": "markdown",
   "metadata": {},
   "source": [
    "# Try It"
   ]
  },
  {
   "cell_type": "markdown",
   "metadata": {},
   "source": [
    "### Rectangles"
   ]
  },
  {
   "cell_type": "markdown",
   "metadata": {},
   "source": [
    "Farmer Fuchsia planted a rectangular grid of pumpkins shown below\n",
    "<pre>\n",
    "  o o o o o o \n",
    "  o o o o o o\n",
    "  o o o o o o\n",
    "</pre>\n",
    "Find some blocks or beads and build this grid."
   ]
  },
  {
   "cell_type": "markdown",
   "metadata": {},
   "source": [
    "Find four different ways to count the pumpkins.  <br><br> Write down the formulas you use<br><br>Check that all four different counts give the same total number of pumpkins."
   ]
  },
  {
   "cell_type": "markdown",
   "metadata": {},
   "source": [
    "### Triangles"
   ]
  },
  {
   "cell_type": "markdown",
   "metadata": {},
   "source": [
    "Farmer Fuchsia planted a triangular grid of watermelons shown below<br>\n",
    "<pre>\n",
    "     O\n",
    "    O O\n",
    "   O O O\n",
    "  O O O O\n",
    " O O O O O \n",
    "</pre>\n",
    "Find some blocks or beads and build this grid"
   ]
  },
  {
   "cell_type": "markdown",
   "metadata": {},
   "source": [
    "Find three different ways to count the watermelons.  <br><br> Write down the formulas you use<br><br>Check that all four different counts give the same total number of watermelons."
   ]
  }
 ],
 "metadata": {
  "kernelspec": {
   "display_name": "Python 3",
   "language": "python",
   "name": "python3"
  },
  "language_info": {
   "codemirror_mode": {
    "name": "ipython",
    "version": 3
   },
   "file_extension": ".py",
   "mimetype": "text/x-python",
   "name": "python",
   "nbconvert_exporter": "python",
   "pygments_lexer": "ipython3",
   "version": "3.7.3"
  }
 },
 "nbformat": 4,
 "nbformat_minor": 4
}
